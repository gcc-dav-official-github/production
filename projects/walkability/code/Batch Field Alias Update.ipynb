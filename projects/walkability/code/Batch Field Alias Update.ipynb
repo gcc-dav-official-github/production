{
 "cells": [
  {
   "cell_type": "markdown",
   "metadata": {},
   "source": [
    "# Update Field Alias Names"
   ]
  },
  {
   "cell_type": "code",
   "execution_count": null,
   "metadata": {},
   "outputs": [],
   "source": [
    "# getting python libraries\n",
    "import geopandas as gpd \n",
    "import pandas as pd\n",
    "from shapely import ops\n",
    "import os\n",
    "import shapely\n",
    "import numpy as np\n",
    "import psycopg2\n",
    "import pandana as pdna\n",
    "import networkx as nx\n",
    "import multiprocessing as mp\n",
    "import matplotlib.pyplot as plt\n",
    "from geoalchemy2 import Geometry, WKTElement\n",
    "from sqlalchemy import *\n",
    "from scipy import stats\n",
    "import seaborn as sns; sns.set()\n",
    "from shapely.geometry import *\n",
    "import arcpy\n",
    "shapely.speedups.enable()\n",
    "\n",
    "%matplotlib inline "
   ]
  },
  {
   "cell_type": "code",
   "execution_count": null,
   "metadata": {},
   "outputs": [],
   "source": [
    "df = pandas.read_csv(r'C:\\Users\\asulaim\\Desktop\\pednet\\readablefieldname.csv')\n",
    "for row in df.itertuples(index=True, name='Pandas'):\n",
    "    print((row[1]),(row[2]))"
   ]
  },
  {
   "cell_type": "code",
   "execution_count": null,
   "metadata": {},
   "outputs": [],
   "source": [
    "for row in df.itertuples(index=True, name='Pandas'):\n",
    "    print((row[2]))"
   ]
  },
  {
   "cell_type": "code",
   "execution_count": null,
   "metadata": {},
   "outputs": [],
   "source": [
    "fc = r\"C:\\Users\\asulaim\\Documents\\ArcGIS\\Projects\\dynamic\\dynamic.gdb\\walkability_census\"\n",
    "arcpy.env.workspace = r'C:\\Users\\asulaim\\Documents\\ArcGIS\\Projects\\dynamic\\dynamic.gdb'\n",
    "fcList = arcpy.ListFeatureClasses()\n",
    "for fc in fcList:\n",
    "    fieldList = arcpy.ListFields(fc)\n",
    "    for row in df.itertuples(index=True, name='Pandas'):\n",
    "        for field in fieldList:\n",
    "            if field.name == row[1]:\n",
    "                arcpy.AlterField_management(fc, field.name, row[1], row[2])\n"
   ]
  }
 ],
 "metadata": {
  "kernelspec": {
   "display_name": "Python 3",
   "language": "python",
   "name": "python3"
  },
  "language_info": {
   "codemirror_mode": {
    "name": "ipython",
    "version": 3
   },
   "file_extension": ".py",
   "mimetype": "text/x-python",
   "name": "python",
   "nbconvert_exporter": "python",
   "pygments_lexer": "ipython3",
   "version": "3.6.4"
  }
 },
 "nbformat": 4,
 "nbformat_minor": 2
}
