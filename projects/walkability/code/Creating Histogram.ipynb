{
 "cells": [
  {
   "cell_type": "code",
   "execution_count": 1,
   "metadata": {},
   "outputs": [],
   "source": [
    "import geopandas as gpd \n",
    "import pandas as pd\n",
    "from shapely import ops\n",
    "import os\n",
    "import shapely\n",
    "import numpy as np\n",
    "import psycopg2\n",
    "import pandana as pdna\n",
    "import networkx as nx\n",
    "import multiprocessing as mp\n",
    "import matplotlib.pyplot as plt\n",
    "from geoalchemy2 import Geometry, WKTElement\n",
    "from sqlalchemy import *\n",
    "from scipy import stats\n",
    "import seaborn as sns; sns.set()\n",
    "from shapely.geometry import *\n",
    "shapely.speedups.enable()\n",
    "\n",
    "%matplotlib inline "
   ]
  },
  {
   "cell_type": "code",
   "execution_count": null,
   "metadata": {},
   "outputs": [],
   "source": [
    "password = open('password.txt','r').readline()\n",
    "username = 'postgres'\n",
    "walkability_engine = create_engine('postgresql://%s:%s@172.19.118.205:5432/walkability' %(username,password))\n",
    "#summary = gpd.read_postgis(\"select * from results.census_summary_walktimes_fin\", walkability_engine, 'geom')\n",
    "buildings = gpd.read_postgis(\"select * from staging.buildings327\", walkability_engine, 'geom')"
   ]
  },
  {
   "cell_type": "code",
   "execution_count": 2,
   "metadata": {},
   "outputs": [
    {
     "name": "stderr",
     "output_type": "stream",
     "text": [
      "/opt/anaconda3/lib/python3.6/site-packages/IPython/core/interactiveshell.py:2785: DtypeWarning: Columns (159,160,188,191,192,193,194,203,204,205,206,219,220,225,226,229,230,233,237,238,239,240) have mixed types. Specify dtype option on import or set low_memory=False.\n",
      "  interactivity=interactivity, compiler=compiler, result=result)\n"
     ]
    }
   ],
   "source": [
    "buildings = pd.read_csv('./buildings327.csv')"
   ]
  },
  {
   "cell_type": "code",
   "execution_count": 3,
   "metadata": {},
   "outputs": [
    {
     "data": {
      "text/plain": [
       "(0, 30)"
      ]
     },
     "execution_count": 3,
     "metadata": {},
     "output_type": "execute_result"
    },
    {
     "data": {
      "image/png": "[encoded data removed]",
      "text/plain": [
       "<Figure size 864x576 with 1 Axes>"
      ]
     },
     "metadata": {
      "needs_background": "light"
     },
     "output_type": "display_data"
    }
   ],
   "source": [
    "buildings['m_sc_0'].hist(bins=1000, figsize=(12,8))\n",
    "plt.title('Histogram of Nearest Walking Minutes to School', fontsize=14)\n",
    "plt.xlabel('Walking Minutes', fontsize=12)\n",
    "plt.ylabel('Frequency', fontsize=12)\n",
    "plt.xlim(0, 30)\n"
   ]
  },
  {
   "cell_type": "code",
   "execution_count": null,
   "metadata": {},
   "outputs": [],
   "source": [
    "print(buildings.columns.values)"
   ]
  },
  {
   "cell_type": "code",
   "execution_count": null,
   "metadata": {},
   "outputs": [],
   "source": [
    "import numpy as np\n",
    "import pandas as pd\n",
    "import matplotlib.pyplot as plt\n",
    "from scipy import stats\n",
    "%matplotlib inline\n",
    "import seaborn as sns; sns.set()\n",
    "columns = np.array(buildings[\"col\"])\n",
    "#print(\"Mean:       \", columns.mean())\n",
    "#print(\"Standard deviation:\", columns.std())\n",
    "#print(\"Minimum:    \", columns.min())\n",
    "#print(\"Maximum:    \", columns.max())\n",
    "#print(\"25th percentile:   \", np.percentile(columns, 25))\n",
    "#print(\"Median:            \", np.median(columns))\n",
    "#print(\"75th percentile:   \", np.percentile(columns, 75))\n",
    "\n",
    "mu= 100\n",
    "sigma = 15\n",
    "Mean=round(columns.mean(),4)\n",
    "Min=round(columns.min(),4)\n",
    "Max=round(columns.max(),4)\n",
    "Std=round(columns.std(),4)\n",
    "Median=round(np.median(columns),4)\n",
    "t25h=np.percentile(columns, 25)\n",
    "th25 = round(t25h, 4)\n",
    "t75h=np.percentile(columns, 75)\n",
    "th75=round(t75h, 4)\n",
    "#textstr = '\\n'.join((\n",
    "##    r'Mean=%.2f' % (Mean, ),\n",
    "#    r'Min=%.2f' % (Min, ),\n",
    "#    r'Max=%.2f' % (Max, ),\n",
    " #   r'Std=%.2f' % (Std, ),\n",
    "#    r'Median=%.2f' % (Median, ),\n",
    "#    r't25h=%.2f' % (t25h, ),\n",
    "#    r't75h=%.2f' % (t75h, )))\n",
    "#print(Mean, Std, Min, Max, Median, t25h, t75h)\n",
    "plt.hist(columns, bins=20, color='c', edgecolor='k', alpha=0.65, )\n",
    "plt.axvline(columns.mean(), color='r', linestyle='dashed', linewidth=1, label=\"Mean:\" + str(Mean))\n",
    "plt.axvline(columns.min(), color='m', linestyle='dashed', linewidth=1, label=\"Min:\" + str(Min))\n",
    "plt.axvline(columns.max(), color='y', linestyle='dashed', linewidth=1, label=\"Max:\" + str(Max))\n",
    "plt.axvline(columns.std(), color='k', linestyle='dashed', linewidth=1, label=\"Std:\" + str(Std))\n",
    "plt.axvline(np.median(columns), color='g', linestyle='dashed', linewidth=1, label=\"Median:\" + str(Median))\n",
    "plt.axvline(np.percentile(columns, 25), color='b', linestyle='dashed', linewidth=1, label=\"25%:\" + str(th25))\n",
    "plt.axvline(np.percentile(columns, 75), color='k', linestyle='solid', linewidth=1, label=\"75%:\" + str(th75))\n",
    "#plt.text(55, 50.95, textstr )\n",
    "#plt.title('Walking Minutes')\n",
    "plt.title(col + \" \" +'Walking Minutes')\n",
    "plt.xlabel('Minutes')\n",
    "plt.ylabel('Count');\n",
    "plt.legend(loc=0)\n",
    "fig.savefig(i)\n",
    "fig.clf()"
   ]
  },
  {
   "cell_type": "code",
   "execution_count": null,
   "metadata": {},
   "outputs": [],
   "source": [
    "import numpy as np\n",
    "import pandas as pd\n",
    "import matplotlib.pyplot as plt\n",
    "from scipy import stats\n",
    "%matplotlib inline\n",
    "import seaborn as sns; sns.set()\n",
    "for i, col in enumerate(buildings.columns):\n",
    "    columns = np.array(buildings[col])\n",
    "    #print(\"Mean:       \", columns.mean())\n",
    "    #print(\"Standard deviation:\", columns.std())\n",
    "    #print(\"Minimum:    \", columns.min())\n",
    "    #print(\"Maximum:    \", columns.max())\n",
    "    #print(\"25th percentile:   \", np.percentile(columns, 25))\n",
    "    #print(\"Median:            \", np.median(columns))\n",
    "    #print(\"75th percentile:   \", np.percentile(columns, 75))\n",
    "    fig = plt.figure()\n",
    "    Mean=round(columns.mean(),4)\n",
    "    Std=round(columns.std(),4)\n",
    "    Min=round(columns.min(),4)\n",
    "    Max=round(columns.max(),4)\n",
    "    Median=round(np.median(columns),4)\n",
    "    t25h=np.percentile(columns, 25)\n",
    "    t75h=np.percentile(columns, 75)\n",
    "    textstr = '\\n'.join((\n",
    "        r'Mean=%.2f' % (Mean, ),\n",
    "        r'Min=%.2f' % (Min, ),\n",
    "        r'Max=%.2f' % (Max, ),\n",
    "        r'Std=%.2f' % (Std, ),\n",
    "        r'Median=%.2f' % (Median, ),\n",
    "        r't25h=%.2f' % (t25h, ),\n",
    "        r't75h=%.2f' % (t75h, )))\n",
    "    #print(Mean, Std, Min, Max, Median, t25h, t75h)\n",
    "    plt.hist(columns, bins=20, color='c', edgecolor='k', alpha=0.65, )\n",
    "    plt.axvline(columns.mean(), color='r', linestyle='dashed', linewidth=1, label='Mean')\n",
    "    plt.axvline(columns.min(), color='m', linestyle='dashed', linewidth=1, label='Min')\n",
    "    plt.axvline(columns.max(), color='y', linestyle='dashed', linewidth=1, label='Max')\n",
    "    plt.axvline(columns.std(), color='k', linestyle='dashed', linewidth=1, label='Std')\n",
    "    plt.axvline(np.median(columns), color='g', linestyle='dashed', linewidth=1, label='Median')\n",
    "    plt.axvline(np.percentile(columns, 25), color='b', linestyle='dashed', linewidth=1, label='25th percentile')\n",
    "    plt.axvline(np.percentile(columns, 75), color='k', linestyle='solid', linewidth=1, label='75th percentile')\n",
    "    plt.text(60, 50.95, textstr )\n",
    "    #plt.title('Walking Minutes')\n",
    "    plt.title(col + \" \" +'Walking Minutes')\n",
    "    plt.xlabel('Minutes')\n",
    "    plt.ylabel('Count');\n",
    "    plt.legend(loc=0)\n",
    "    plt.savefig('col{0}.jpg'.format(i))\n",
    "    fig.clf()"
   ]
  },
  {
   "cell_type": "code",
   "execution_count": null,
   "metadata": {},
   "outputs": [],
   "source": []
  }
 ],
 "metadata": {
  "kernelspec": {
   "display_name": "Python 3",
   "language": "python",
   "name": "python3"
  },
  "language_info": {
   "codemirror_mode": {
    "name": "ipython",
    "version": 3
   },
   "file_extension": ".py",
   "mimetype": "text/x-python",
   "name": "python",
   "nbconvert_exporter": "python",
   "pygments_lexer": "ipython3",
   "version": "3.6.4"
  }
 },
 "nbformat": 4,
 "nbformat_minor": 2
}
