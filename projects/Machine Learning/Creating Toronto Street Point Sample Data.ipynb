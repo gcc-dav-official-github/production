{
 "cells": [
  {
   "cell_type": "code",
   "execution_count": null,
   "metadata": {},
   "outputs": [],
   "source": [
    "#import libraries needed\n",
    "import pandas as pd\n",
    "import google_streetview.api\n",
    "import google_streetview.helpers\n",
    "import geopandas as gpd \n",
    "import pandas as pd\n",
    "from shapely import ops\n",
    "import os\n",
    "import shapely\n",
    "from shapely.geometry import Point, MultiPoint, shape, mapping, Polygon, LineString\n",
    "import numpy as np\n",
    "import psycopg2\n",
    "import pandana as pdna\n",
    "import networkx as nx\n",
    "import multiprocessing as mp\n",
    "import matplotlib.pyplot as plt\n",
    "from geoalchemy2 import Geometry, WKTElement\n",
    "from sqlalchemy import *\n",
    "import time\n",
    "from shapely import wkt\n",
    "from shapely.geometry import *\n",
    "shapely.speedups.enable()"
   ]
  },
  {
   "cell_type": "code",
   "execution_count": null,
   "metadata": {},
   "outputs": [],
   "source": [
    "# data connection \n",
    "con = psycopg2.connect(database=\"walkability\", user=\"postgres\", password=***,    host=\"***\",port=\"5432\")"
   ]
  },
  {
   "cell_type": "code",
   "execution_count": null,
   "metadata": {},
   "outputs": [],
   "source": [
    "# getting data from database\n",
    "centerline_midpoint = gpd.read_postgis(\"select * from staging.centreline_midpoint\", con, crs={'init': 'epsg:2019'})\n",
    "intersection = gpd.read_postgis(\"select * from staging.centreline_intersection\", con, crs={'init': 'epsg:2019'})\n",
    "#points = gpd.read_postgis(\"select * from staging.centreline_points\", con, crs={'init': 'epsg:2019'})\n",
    "landzone = gpd.read_postgis(\"select * from public.landuse\", con, crs={'init': 'epsg:2019'})\n",
    "# open data castalogue of Toronto City\n",
    "#zoning by law: https://www.toronto.ca/city-government/data-research-maps/open-data/open-data-catalogue/#8fef077c-9a14-e922-0c57-f390cd68b8a0\n",
    "#centreline: https://www.toronto.ca/city-government/data-research-maps/open-data/open-data-catalogue/#e4ec3384-056f-aa59-70f7-9ad7706f31a3\n",
    "#address points data: https://www.toronto.ca/city-government/data-research-maps/open-data/open-data-catalogue/#f71a13c4-fb51-6116-57b7-1f51a8190585"
   ]
  },
  {
   "cell_type": "code",
   "execution_count": null,
   "metadata": {},
   "outputs": [],
   "source": [
    "centerline_midpoint = centerline_midpoint[['geom', 'longitude', 'latitude']]\n",
    "intersection = intersection[['geom', 'longitude', 'latitude']]\n"
   ]
  },
  {
   "cell_type": "code",
   "execution_count": null,
   "metadata": {},
   "outputs": [],
   "source": [
    "df1 = pd.DataFrame(centerline_midpoint, copy=True)\n",
    "df2 = pd.DataFrame(intersection, copy=True)"
   ]
  },
  {
   "cell_type": "code",
   "execution_count": null,
   "metadata": {},
   "outputs": [],
   "source": [
    "df = df1.append(df2, ignore_index = True)\n",
    "df.to_csv(\"./allpois.csv\")"
   ]
  },
  {
   "cell_type": "code",
   "execution_count": null,
   "metadata": {},
   "outputs": [],
   "source": [
    "df.tail(5)\n"
   ]
  },
  {
   "cell_type": "code",
   "execution_count": null,
   "metadata": {},
   "outputs": [],
   "source": [
    "landzone.tail(5)"
   ]
  },
  {
   "cell_type": "code",
   "execution_count": null,
   "metadata": {},
   "outputs": [],
   "source": [
    "landzone.groupby(landzone['area_type'])"
   ]
  },
  {
   "cell_type": "code",
   "execution_count": null,
   "metadata": {},
   "outputs": [],
   "source": [
    "landzone.area_desc.unique()"
   ]
  },
  {
   "cell_type": "code",
   "execution_count": null,
   "metadata": {},
   "outputs": [],
   "source": [
    "landzone.groupby(['area_desc']).count()\n",
    "plt.clf()\n",
    "landzone.groupby('area_desc').sum().plot(kind='bar')\n",
    "plt.show()"
   ]
  },
  {
   "cell_type": "code",
   "execution_count": null,
   "metadata": {},
   "outputs": [],
   "source": [
    "landzone.groupby(['area_desc']).sum().transform(lambda x: x/np.sum(x)*100)"
   ]
  },
  {
   "cell_type": "code",
   "execution_count": null,
   "metadata": {},
   "outputs": [],
   "source": [
    "landzone['zones'] = landzone['area_desc']\n",
    "landzone.drop(['x', 'y', 'longitude', 'latitude'  ], axis=1)"
   ]
  },
  {
   "cell_type": "code",
   "execution_count": null,
   "metadata": {},
   "outputs": [],
   "source": [
    "# categorizing land use 'Residential Apartments', 'Vacant', 'Commercial', residential Singles', 'Other Residential', 'Institutional',\n",
    "#       'Open Space', 'Other + NA', 'Other Roads/Lanes/Walkways', 'Utilities + Transportation', 'Unknown', 'Industrial',\n",
    "#       'Residential Townhouses', 'Commercial Recreation', 'Agricultural'\n",
    "landzone.zones.replace(['Residential Apartments','Residential Singles', 'Residential Townhouses', 'Other Residential'], ['residential', 'residential', 'residential', 'residential'], inplace=True)\n",
    "landzone.zones.replace(['Commercial','Commercial Recreation'], ['business', 'business'], inplace=True)\n",
    "landzone.zones.replace(['Vacant'], ['vacant'], inplace=True)\n",
    "landzone.zones.replace(['Open Space'], ['open space'], inplace=True)\n",
    "landzone.zones.replace(['Agricultural'], ['agricultural'], inplace=True)\n",
    "landzone.zones.replace(['Utilities + Transportation', 'Other Roads/Lanes/Walkways'], ['utilities', 'utilities'], inplace=True)\n",
    "landzone.zones.replace(['Unknown', 'Other + NA'], ['mixed use', 'mixed use'], inplace=True)\n",
    "landzone.zones.replace(['Unknown', 'Agricultural'], ['miscellaneous', 'miscellaneous'], inplace=True)"
   ]
  },
  {
   "cell_type": "code",
   "execution_count": null,
   "metadata": {},
   "outputs": [],
   "source": [
    "landzone.groupby(['zones']).sum().transform(lambda x: x/np.sum(x)*100)"
   ]
  },
  {
   "cell_type": "code",
   "execution_count": null,
   "metadata": {},
   "outputs": [],
   "source": [
    "landzone.crs = {'init' :'epsg:4326'}\n",
    "landzone[\"geometry\"] = landzone.geom\n",
    "print(landzone.geometry)"
   ]
  },
  {
   "cell_type": "code",
   "execution_count": null,
   "metadata": {},
   "outputs": [],
   "source": [
    "crs = {'init': 'epsg:4326'}\n",
    "geometry = [Point(xy) for xy in zip(df.longitude, df.latitude)]\n",
    "geodf = gpd.GeoDataFrame(df, crs=crs, geometry=geometry)"
   ]
  },
  {
   "cell_type": "code",
   "execution_count": null,
   "metadata": {},
   "outputs": [],
   "source": [
    "## intersect .Note the lack of NaNs; dropped anything that didn't intersect\n",
    "intersect = gpd.sjoin(geodf, landzone, how=\"inner\")"
   ]
  },
  {
   "cell_type": "code",
   "execution_count": null,
   "metadata": {},
   "outputs": [],
   "source": [
    "intersect.groupby(['zones']).sum()\n"
   ]
  },
  {
   "cell_type": "code",
   "execution_count": null,
   "metadata": {},
   "outputs": [],
   "source": [
    "intersect.head(2)"
   ]
  },
  {
   "cell_type": "code",
   "execution_count": null,
   "metadata": {},
   "outputs": [],
   "source": [
    "intersect.groupby(['zones']).sum().transform(lambda x: x/np.sum(x)*100)"
   ]
  },
  {
   "cell_type": "code",
   "execution_count": null,
   "metadata": {},
   "outputs": [],
   "source": [
    "Toronto = pd.DataFrame(intersect, copy=True)\n",
    "Toronto"
   ]
  },
  {
   "cell_type": "code",
   "execution_count": null,
   "metadata": {},
   "outputs": [],
   "source": [
    "#20% sampling\n",
    "grouped = Toronto.groupby('zones')\n",
    "grouped.apply(lambda x: x.sample(frac=0.2))"
   ]
  },
  {
   "cell_type": "code",
   "execution_count": null,
   "metadata": {},
   "outputs": [],
   "source": [
    "grouped.count()"
   ]
  },
  {
   "cell_type": "code",
   "execution_count": null,
   "metadata": {},
   "outputs": [],
   "source": [
    "Toronto.apply(lambda x: x.sample(frac=0.2))"
   ]
  },
  {
   "cell_type": "code",
   "execution_count": null,
   "metadata": {},
   "outputs": [],
   "source": [
    "# generating 25% sampling \n",
    "rows = Toronto.sample(frac =.25) \n",
    "  \n",
    "# checking if sample is 0.25  \n",
    "  \n",
    "if (0.25*(len(Toronto))== len(rows)): \n",
    "    print( \"Cool\") \n",
    "    print(len(Toronto), len(rows)) \n",
    "  \n",
    "# display \n",
    "rows "
   ]
  },
  {
   "cell_type": "code",
   "execution_count": null,
   "metadata": {},
   "outputs": [],
   "source": [
    "rows.zones.value_counts()/rows.zones.count()*100"
   ]
  }
 ],
 "metadata": {
  "kernelspec": {
   "display_name": "Python 3",
   "language": "python",
   "name": "python3"
  },
  "language_info": {
   "codemirror_mode": {
    "name": "ipython",
    "version": 3
   },
   "file_extension": ".py",
   "mimetype": "text/x-python",
   "name": "python",
   "nbconvert_exporter": "python",
   "pygments_lexer": "ipython3",
   "version": "3.6.4"
  }
 },
 "nbformat": 4,
 "nbformat_minor": 2
}
