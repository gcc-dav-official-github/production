{
 "cells": [
  {
   "cell_type": "code",
   "execution_count": null,
   "metadata": {},
   "outputs": [],
   "source": []
  },
  {
   "cell_type": "code",
   "execution_count": 40,
   "metadata": {},
   "outputs": [
    {
     "name": "stdout",
     "output_type": "stream",
     "text": [
      "left side  polygon is  p1\n",
      "right side  polygon is  p2\n"
     ]
    }
   ],
   "source": [
    "from shapely.geometry import LineString,MultiLineString,GeometryCollection, Polygon, GeometryCollection\n",
    "\n",
    "\n",
    "line = LineString([(0, 0),(0, 100)])\n",
    "p1 = Polygon([(-15, -5),(-15, 100),(-5, 100),(-5, -5)])\n",
    "p2 = Polygon([(15, -5),(15, 100),(5, 100),(5, -5)])\n",
    "\n",
    "lcoords = LineString(line.parallel_offset(10, 'left').coords[:])\n",
    "rcoords =  LineString(line.parallel_offset(10, 'right').coords[:])\n",
    "lmid_point = lcoords.interpolate(0.5, normalized = True)\n",
    "rmid_point = rcoords.interpolate(0.5, normalized = True)\n",
    "\n",
    "polys = [[\"p1\",p1],[\"p2\",p2]]\n",
    "\n",
    "for name1,midpoint in [[\"left side\",lmid_point],[\"right side\",rmid_point]]:\n",
    "    for name2,poly in polys:\n",
    "        if midpoint.intersects(poly):\n",
    "            print(name1,\" polygon is \", name2)"
   ]
  },
  {
   "cell_type": "code",
   "execution_count": 34,
   "metadata": {},
   "outputs": [
    {
     "data": {
      "image/svg+xml": [
       "<svg xmlns=\"http://www.w3.org/2000/svg\" xmlns:xlink=\"http://www.w3.org/1999/xlink\" width=\"100.0\" height=\"113.4\" viewBox=\"-19.2 -9.2 38.4 113.4\" preserveAspectRatio=\"xMinYMin meet\"><g transform=\"matrix(1,0,0,-1,0,95.0)\"><g><path fill-rule=\"evenodd\" fill=\"#66cc99\" stroke=\"#555555\" stroke-width=\"2.0\" opacity=\"0.6\" d=\"M -15.0,-5.0 L -15.0,100.0 L -5.0,100.0 L -5.0,-5.0 L -15.0,-5.0 z\" /><polyline fill=\"none\" stroke=\"#66cc99\" stroke-width=\"2.0\" points=\"-10.0,0.0 -10.0,100.0\" opacity=\"0.8\" /><circle cx=\"-10.0\" cy=\"50.0\" r=\"3.0\" stroke=\"#555555\" stroke-width=\"1.0\" fill=\"#66cc99\" opacity=\"0.6\" /><polyline fill=\"none\" stroke=\"#66cc99\" stroke-width=\"2.0\" points=\"0.0,0.0 0.0,100.0\" opacity=\"0.8\" /><polyline fill=\"none\" stroke=\"#66cc99\" stroke-width=\"2.0\" points=\"10.0,100.0 10.0,0.0\" opacity=\"0.8\" /><circle cx=\"10.0\" cy=\"50.0\" r=\"3.0\" stroke=\"#555555\" stroke-width=\"1.0\" fill=\"#66cc99\" opacity=\"0.6\" /><path fill-rule=\"evenodd\" fill=\"#66cc99\" stroke=\"#555555\" stroke-width=\"2.0\" opacity=\"0.6\" d=\"M 15.0,-5.0 L 15.0,100.0 L 5.0,100.0 L 5.0,-5.0 L 15.0,-5.0 z\" /></g></g></svg>"
      ],
      "text/plain": [
       "<shapely.geometry.collection.GeometryCollection at 0x7f035da267f0>"
      ]
     },
     "execution_count": 34,
     "metadata": {},
     "output_type": "execute_result"
    }
   ],
   "source": [
    "GeometryCollection([p1,lcoords,lmid_point,line,rcoords,rmid_point,p2])"
   ]
  },
  {
   "cell_type": "code",
   "execution_count": 19,
   "metadata": {},
   "outputs": [
    {
     "data": {
      "text/plain": [
       "(array('d', [-10.0, -10.0]), array('d', [0.0, 100.0]))"
      ]
     },
     "execution_count": 19,
     "metadata": {},
     "output_type": "execute_result"
    }
   ],
   "source": [
    "lcoords.coords.xy"
   ]
  },
  {
   "cell_type": "code",
   "execution_count": 23,
   "metadata": {},
   "outputs": [
    {
     "data": {
      "image/svg+xml": [
       "<svg xmlns=\"http://www.w3.org/2000/svg\" xmlns:xlink=\"http://www.w3.org/1999/xlink\" width=\"100.0\" height=\"108.0\" viewBox=\"-15.0 -4.0 18.0 108.0\" preserveAspectRatio=\"xMinYMin meet\"><g transform=\"matrix(1,0,0,-1,0,100.0)\"><path fill-rule=\"evenodd\" fill=\"#66cc99\" stroke=\"#555555\" stroke-width=\"2.0\" opacity=\"0.6\" d=\"M -11.0,0.0 L -11.0,100.0 L -1.0,100.0 L -1.0,0.0 L -11.0,0.0 z\" /></g></svg>"
      ],
      "text/plain": [
       "<shapely.geometry.polygon.Polygon at 0x7f036c0b55c0>"
      ]
     },
     "execution_count": 23,
     "metadata": {},
     "output_type": "execute_result"
    }
   ],
   "source": [
    "p1 = Polygon([(-11, 0),(-11, 100),(-1, 100),(-1, 0)])\n",
    "p1"
   ]
  },
  {
   "cell_type": "code",
   "execution_count": 37,
   "metadata": {},
   "outputs": [
    {
     "data": {
      "text/plain": [
       "True"
      ]
     },
     "execution_count": 37,
     "metadata": {},
     "output_type": "execute_result"
    }
   ],
   "source": [
    "lmid_point.intersects(polys)"
   ]
  },
  {
   "cell_type": "code",
   "execution_count": null,
   "metadata": {},
   "outputs": [],
   "source": []
  }
 ],
 "metadata": {
  "kernelspec": {
   "display_name": "Python 3",
   "language": "python",
   "name": "python3"
  },
  "language_info": {
   "codemirror_mode": {
    "name": "ipython",
    "version": 3
   },
   "file_extension": ".py",
   "mimetype": "text/x-python",
   "name": "python",
   "nbconvert_exporter": "python",
   "pygments_lexer": "ipython3",
   "version": "3.6.4"
  }
 },
 "nbformat": 4,
 "nbformat_minor": 2
}
